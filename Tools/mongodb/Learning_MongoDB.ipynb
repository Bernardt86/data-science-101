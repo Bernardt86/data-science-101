{
 "metadata": {
  "name": "",
  "signature": "sha256:e861e96de525f672bbc572f868b746d539b2e300696c05813603465b7b2b89de"
 },
 "nbformat": 3,
 "nbformat_minor": 0,
 "worksheets": [
  {
   "cells": [
    {
     "cell_type": "markdown",
     "metadata": {},
     "source": [
      "# Methods for importing the Career Builder data"
     ]
    },
    {
     "cell_type": "markdown",
     "metadata": {},
     "source": [
      "The career builder data is in the form of txt files where each line in the file is a json object. It has been suggested that the best way to deal with this data may be to use a nosql database.  This is my attempt at exploring the use of MongoDB, the most used NoSQL database.\n",
      "\n",
      "To get started you need to\n",
      "1. install mongodb itself which can be found at http://www.mongodb.org/downloads. \n",
      "2. install pymongo, the mongodb module for python. Info on that can be found at http://www.mongodb.org/downloads\n",
      "3. begin running mongodb, in Ubuntu, it begins running automatically when the package is installed, but for mac you need to write or get a script to run it and close it.\n",
      "\n",
      "Also, I found a book called \"MongoDB and Python\" in pdf form, so if anyone wants it just let me know and I'll send it over."
     ]
    },
    {
     "cell_type": "code",
     "collapsed": false,
     "input": [
      "import json"
     ],
     "language": "python",
     "metadata": {},
     "outputs": [],
     "prompt_number": 92
    },
    {
     "cell_type": "code",
     "collapsed": false,
     "input": [
      "\"\"\" An example of how to get a Python handle to a MongoDB database \"\"\"\n",
      "import sys\n",
      "from pymongo import Connection\n",
      "from pymongo.errors import ConnectionFailure\n",
      "\n",
      "def getConnHandler():\n",
      "    \"\"\" Connect to MongoDB \"\"\"\n",
      "    try:\n",
      "        c = Connection(host=\"localhost\", port=27017)\n",
      "    except ConnectionFailure, e:\n",
      "        print (\"Could not connect to MongoDB: %s\" % e)\n",
      "        return False\n",
      "    \n",
      "    # Get a Database handle to a database named \"mydb\"\n",
      "    dbh = c[\"mydb\"]\n",
      "    # Demonstrate the db.connection property to retrieve a reference to the\n",
      "    # Connection object should it go out of scope. In most cases, keeping a\n",
      "    # reference to the Database object for the lifetime of your program should\n",
      "    # be sufficient.\n",
      "    assert dbh.connection == c\n",
      "    print \"Successfully set up a database handle\"\n",
      "    return dbh\n",
      "\n",
      "dbh = getConnHandler()\n",
      "if (\"characters\" in dbh.collection_names()): # just use this to drop the collection if it was already in there\n",
      "    dbh[\"characters\"].drop()\n",
      "    print \"dropped characters collection\""
     ],
     "language": "python",
     "metadata": {},
     "outputs": [
      {
       "output_type": "stream",
       "stream": "stdout",
       "text": [
        "Successfully set up a database handle\n",
        "dropped characters collection\n"
       ]
      }
     ],
     "prompt_number": 93
    },
    {
     "cell_type": "markdown",
     "metadata": {},
     "source": [
      "###Important things that I've noticed so far is that instead of \"tables\" (like in SQL), we have \"collections\" and instead of \"rows\" we  have \"documents\""
     ]
    },
    {
     "cell_type": "code",
     "collapsed": false,
     "input": [
      "# an example of inserting a document into a collection\n",
      "# \n",
      "# example using fake wizard character. D&D? WoW? Probably\n",
      "char_doc = {\"Name\" : \"Epic PWNy\",\n",
      "            \"Hit Points\" : 100,\n",
      "            \"Experience\" : 300,\n",
      "            \"Class\" : \"Wizard\",\n",
      "            \"Items\" : [\"wizard staff\", \"potion bottle\", \"converse all-stars\"]\n",
      "            }\n",
      "\n",
      "#insert the character into mongodb\n",
      "dbh.characters.insert(char_doc, safe=True)\n",
      "print \"Successfully inserted document: %s\" % char_doc\n"
     ],
     "language": "python",
     "metadata": {},
     "outputs": [
      {
       "output_type": "stream",
       "stream": "stdout",
       "text": [
        "Successfully inserted document: {'Name': 'Epic PWNy', 'Items': ['wizard staff', 'potion bottle', 'converse all-stars'], 'Experience': 300, 'Hit Points': 100, '_id': ObjectId('53b1b2ef6599a6109d139984'), 'Class': 'Wizard'}\n"
       ]
      }
     ],
     "prompt_number": 94
    },
    {
     "cell_type": "markdown",
     "metadata": {},
     "source": [
      "###Pretty cool, we don't even have to define the table, I mean uhhh \"collection\", at all before throwing some stuff in there.\n",
      ">NOTE : This means we have to be really careful. If someone were to write a method to populate the collection with LOTS of new documents and the \"characters\" collection is accidentally spelled \"character\", then you might find yourself searching for the new data in \"characters\" and not being able to find it while all along the data is in a new collection called \"character\"\n"
     ]
    },
    {
     "cell_type": "code",
     "collapsed": false,
     "input": [
      "# Ok, I'm going to throw some new dudes in this database and see how it handles it with this NoSQL nonsense\n",
      "warrior_doc = {\"Name\" : \"Saul T. Dawg\",\n",
      "                \"Hit Points\" : 80,\n",
      "               \"Experience\" : 234,\n",
      "               \"Armor\" : 40,\n",
      "               \"Class\" : \"Warrior\",\n",
      "               \"Items\" : [\"battle ax\", \"gauntlet\", \"beard\"]\n",
      "            }\n",
      "\n",
      "archer_doc = {\"Name\" : \"Hot Mess\",\n",
      "              \"Hit Points\" : 60,\n",
      "              \"Experience\" : 120,\n",
      "              \"Class\" : \"Archer\",\n",
      "              \"Items\" : [\"long bow\", \"arrows\", \"embarrassingly small sword / knife\", \"\"\"lock of g/f's hair\"\"\"]\n",
      "            }\n",
      "\n",
      "dbh.characters.insert(warrior_doc)\n",
      "dbh.characters.insert(archer_doc)"
     ],
     "language": "python",
     "metadata": {},
     "outputs": [
      {
       "metadata": {},
       "output_type": "pyout",
       "prompt_number": 95,
       "text": [
        "ObjectId('53b1b2ef6599a6109d139986')"
       ]
      }
     ],
     "prompt_number": 95
    },
    {
     "cell_type": "markdown",
     "metadata": {},
     "source": [
      "### Ok, so we know that if this were SQL, we would have a really messed up looking table right now, but we are in NoSQL land and there are no tables, just collections. How will it handle queries, when not all of them have the same fields?"
     ]
    },
    {
     "cell_type": "code",
     "collapsed": false,
     "input": [
      "# let's find out\n",
      "# first we will query all wizards\n",
      "\n",
      "q = {\"Class\" : \"Wizard\"}\n",
      "dbh.characters.find(q)"
     ],
     "language": "python",
     "metadata": {},
     "outputs": [
      {
       "metadata": {},
       "output_type": "pyout",
       "prompt_number": 96,
       "text": [
        "<pymongo.cursor.Cursor at 0x188fb10>"
       ]
      }
     ],
     "prompt_number": 96
    },
    {
     "cell_type": "code",
     "collapsed": false,
     "input": [
      "# oh snap, I got a cursor back! SQL had these too\n",
      "cur = dbh.characters.find(q)\n",
      "cur.count()"
     ],
     "language": "python",
     "metadata": {},
     "outputs": [
      {
       "metadata": {},
       "output_type": "pyout",
       "prompt_number": 97,
       "text": [
        "1"
       ]
      }
     ],
     "prompt_number": 97
    },
    {
     "cell_type": "markdown",
     "metadata": {},
     "source": [
      "### Ok, makes sense, we only put one wizard in there"
     ]
    },
    {
     "cell_type": "code",
     "collapsed": false,
     "input": [
      "cur[0].get(\"Name\")"
     ],
     "language": "python",
     "metadata": {},
     "outputs": [
      {
       "metadata": {},
       "output_type": "pyout",
       "prompt_number": 98,
       "text": [
        "u'Epic PWNy'"
       ]
      }
     ],
     "prompt_number": 98
    },
    {
     "cell_type": "markdown",
     "metadata": {},
     "source": [
      "### Also, according to the documentation, we can reference this field like a dictionary too if we know for sure that it is there, but using get will prevent an error from being thrown (i think)"
     ]
    },
    {
     "cell_type": "code",
     "collapsed": false,
     "input": [
      "# example : this is a field we have\n",
      "cur[0]['Name']"
     ],
     "language": "python",
     "metadata": {},
     "outputs": [
      {
       "metadata": {},
       "output_type": "pyout",
       "prompt_number": 99,
       "text": [
        "u'Epic PWNy'"
       ]
      }
     ],
     "prompt_number": 99
    },
    {
     "cell_type": "code",
     "collapsed": false,
     "input": [
      "# this is a field we don't have\n",
      "cur[0]['Social Security Number']"
     ],
     "language": "python",
     "metadata": {},
     "outputs": [
      {
       "ename": "KeyError",
       "evalue": "'Social Security Number'",
       "output_type": "pyerr",
       "traceback": [
        "\u001b[1;31m---------------------------------------------------------------------------\u001b[0m\n\u001b[1;31mKeyError\u001b[0m                                  Traceback (most recent call last)",
        "\u001b[1;32m<ipython-input-100-b03606e9f07a>\u001b[0m in \u001b[0;36m<module>\u001b[1;34m()\u001b[0m\n\u001b[0;32m      1\u001b[0m \u001b[1;31m# this is a field we don't have\u001b[0m\u001b[1;33m\u001b[0m\u001b[1;33m\u001b[0m\u001b[0m\n\u001b[1;32m----> 2\u001b[1;33m \u001b[0mcur\u001b[0m\u001b[1;33m[\u001b[0m\u001b[1;36m0\u001b[0m\u001b[1;33m]\u001b[0m\u001b[1;33m[\u001b[0m\u001b[1;34m'Social Security Number'\u001b[0m\u001b[1;33m]\u001b[0m\u001b[1;33m\u001b[0m\u001b[0m\n\u001b[0m",
        "\u001b[1;31mKeyError\u001b[0m: 'Social Security Number'"
       ]
      }
     ],
     "prompt_number": 100
    },
    {
     "cell_type": "code",
     "collapsed": false,
     "input": [
      "# what would get do?\n",
      "ssn = cur[0].get(\"Social Security Number\")\n",
      "type(ssn)"
     ],
     "language": "python",
     "metadata": {},
     "outputs": []
    },
    {
     "cell_type": "markdown",
     "metadata": {},
     "source": [
      "### Right, just as we thought, we got a NoneType back instead of having an error being thrown."
     ]
    },
    {
     "cell_type": "code",
     "collapsed": false,
     "input": [
      "# What if I do something that returns more than one entry?\n",
      "q = {\"Hit Points\" : {\"$gt\" : 70}} # %gt is the MongoDB query language way of saying \"greater than\"\n",
      "cur = dbh.characters.find(q)\n",
      "print \"count : %s \" % cur.count()\n",
      "for c in cur:\n",
      "    print \"%s : %s\" % (c.get(\"Name\"), c.get(\"Hit Points\"))"
     ],
     "language": "python",
     "metadata": {},
     "outputs": []
    },
    {
     "cell_type": "code",
     "collapsed": false,
     "input": [
      "# I like it. And if we need just one?\n",
      "q = {\"Hit Points\" : {\"$gt\" : 70}} \n",
      "cur = dbh.characters.find_one(q)\n",
      "print \"%s : %s\" % (cur.get(\"Name\"), cur.get(\"Hit Points\"))"
     ],
     "language": "python",
     "metadata": {},
     "outputs": []
    },
    {
     "cell_type": "markdown",
     "metadata": {},
     "source": [
      "### What happens when one you make a query on a field that not all documents in the collection have?\n",
      "Apparently, this is what we have to use http://docs.mongodb.org/manual/reference/operator/query/exists/"
     ]
    },
    {
     "cell_type": "code",
     "collapsed": false,
     "input": [
      "q = {\"Armor\" : {\"$exists\" : True}}\n",
      "cur = dbh.characters.find(q)\n",
      "for c in cur:\n",
      "    print \"Name : Armor\"\n",
      "    print \"%s : %s\" % (c.get('Name'), c.get('Armor'))"
     ],
     "language": "python",
     "metadata": {},
     "outputs": []
    },
    {
     "cell_type": "markdown",
     "metadata": {},
     "source": [
      "### Ok, but since MongoDB is based on documents and has no schema, we may want to know what fields are potentially in all of the documents within a collection.  Here is where things start to get more complicated.  After some searching it seems that the best way to do this without just returning all of the rows and iterating is to use... \n",
      "###MapReduce!"
     ]
    },
    {
     "cell_type": "code",
     "collapsed": false,
     "input": [
      "# this may seem completely ridiculous, but pymongo expects that you will write your \n",
      "# mapper and reducer functions as strings in javascript syntax\n",
      "from bson.code import Code\n",
      "mapper = Code(\"\"\" function () {\n",
      "                    for (var key in this) {emit(key, 1);}\n",
      "                }\n",
      "                \n",
      "           \"\"\")"
     ],
     "language": "python",
     "metadata": {},
     "outputs": []
    },
    {
     "cell_type": "markdown",
     "metadata": {},
     "source": [
      "### This mapper will be called for each document in the collection and for each field in the document it will emit the field's name and the number 1.  This will allow us to keep track of how many documents have this particular field"
     ]
    },
    {
     "cell_type": "code",
     "collapsed": false,
     "input": [
      "reducer = Code(\"\"\"\n",
      "                function (key, values) {\n",
      "                    return Array.sum(values)\n",
      "                }\n",
      "                \"\"\")"
     ],
     "language": "python",
     "metadata": {},
     "outputs": []
    },
    {
     "cell_type": "markdown",
     "metadata": {},
     "source": [
      "### I believe that this reducer is being called on the output of each mapper and potentially even on the output of each reducer (especially if it is in a cluster).  If my intuition about this is wrong, please correct me."
     ]
    },
    {
     "cell_type": "code",
     "collapsed": false,
     "input": [
      "result = dbh.characters.inline_map_reduce(mapper, reducer, \"myresults\")\n",
      "result"
     ],
     "language": "python",
     "metadata": {},
     "outputs": []
    },
    {
     "cell_type": "code",
     "collapsed": false,
     "input": [
      "total_chars = dbh.characters.count()"
     ],
     "language": "python",
     "metadata": {},
     "outputs": []
    },
    {
     "cell_type": "code",
     "collapsed": false,
     "input": [
      "for field in result['results']:\n",
      "    print \"\"\"%s perecent of characters have the '%s' field\"\"\" % (float(field['value'])/ float(total_chars) * 100, field['_id'])"
     ],
     "language": "python",
     "metadata": {},
     "outputs": []
    },
    {
     "cell_type": "markdown",
     "metadata": {},
     "source": [
      "### For more on the map reduce stuff check out these links\n",
      "http://docs.mongodb.org/manual/core/map-reduce/\n",
      "http://api.mongodb.org/python/current/examples/aggregation.html"
     ]
    }
   ],
   "metadata": {}
  }
 ]
}