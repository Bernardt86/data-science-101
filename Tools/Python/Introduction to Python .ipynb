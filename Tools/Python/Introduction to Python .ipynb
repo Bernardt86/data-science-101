{
 "metadata": {
  "name": "",
  "signature": "sha256:c42ca47c344132f76ce3a3ea2582707f51c5cb7fa9df6e65c7ba73fa2891249b"
 },
 "nbformat": 3,
 "nbformat_minor": 0,
 "worksheets": [
  {
   "cells": [
    {
     "cell_type": "markdown",
     "metadata": {},
     "source": [
      "#Welcome to Python!\n",
      "###You're going to love it."
     ]
    },
    {
     "cell_type": "code",
     "collapsed": false,
     "input": [],
     "language": "python",
     "metadata": {},
     "outputs": []
    }
   ],
   "metadata": {}
  }
 ]
}