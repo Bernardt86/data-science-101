{
 "metadata": {
  "name": "",
  "signature": "sha256:f9c01a9f847a91065281624388b9371ad00bf35499ee032f0ff56efb54ae03f1"
 },
 "nbformat": 3,
 "nbformat_minor": 0,
 "worksheets": [
  {
   "cells": [
    {
     "cell_type": "markdown",
     "metadata": {},
     "source": [
      "#Ordinary Least Squares\n"
     ]
    },
    {
     "cell_type": "code",
     "collapsed": false,
     "input": [
      "import numpy as np\n",
      "import statsmodels.api as sm\n",
      "import statsmodels.formula.api as smf\n",
      "\n",
      "import matplotlib.pyplot as plt\n",
      "from statsmodels.sandbox.regression.predstd import wls_prediction_std\n",
      "\n",
      "np.random.seed(9876789)"
     ],
     "language": "python",
     "metadata": {},
     "outputs": [],
     "prompt_number": 8
    },
    {
     "cell_type": "code",
     "collapsed": false,
     "input": [
      "nsample = 100\n",
      "x = np.linspace(0,10,100)\n",
      "X = np.column_stack((x, x**2))\n",
      "beta = np.array([1,0.1,10])\n",
      "e = np.random.normal(size = nsample)\n"
     ],
     "language": "python",
     "metadata": {},
     "outputs": [],
     "prompt_number": 3
    },
    {
     "cell_type": "code",
     "collapsed": false,
     "input": [
      "X = sm.add_constant(X)\n",
      "y = np.dot(X,beta) + e"
     ],
     "language": "python",
     "metadata": {},
     "outputs": [],
     "prompt_number": 5
    },
    {
     "cell_type": "code",
     "collapsed": false,
     "input": [
      "model = sm.OLS(y, X)\n",
      "results = model.fit()\n",
      "print (results.summary())"
     ],
     "language": "python",
     "metadata": {},
     "outputs": [
      {
       "output_type": "stream",
       "stream": "stdout",
       "text": [
        "                            OLS Regression Results                            \n",
        "==============================================================================\n",
        "Dep. Variable:                      y   R-squared:                       1.000\n",
        "Model:                            OLS   Adj. R-squared:                  1.000\n",
        "Method:                 Least Squares   F-statistic:                 4.020e+06\n",
        "Date:                Tue, 03 Jun 2014   Prob (F-statistic):          2.83e-239\n",
        "Time:                        15:44:21   Log-Likelihood:                -146.51\n",
        "No. Observations:                 100   AIC:                             299.0\n",
        "Df Residuals:                      97   BIC:                             306.8\n",
        "Df Model:                           2                                         \n",
        "==============================================================================\n",
        "                 coef    std err          t      P>|t|      [95.0% Conf. Int.]\n",
        "------------------------------------------------------------------------------\n",
        "const          1.3423      0.313      4.292      0.000         0.722     1.963\n",
        "x1            -0.0402      0.145     -0.278      0.781        -0.327     0.247\n",
        "x2            10.0103      0.014    715.745      0.000         9.982    10.038\n",
        "==============================================================================\n",
        "Omnibus:                        2.042   Durbin-Watson:                   2.274\n",
        "Prob(Omnibus):                  0.360   Jarque-Bera (JB):                1.875\n",
        "Skew:                           0.234   Prob(JB):                        0.392\n",
        "Kurtosis:                       2.519   Cond. No.                         144.\n",
        "==============================================================================\n"
       ]
      }
     ],
     "prompt_number": 7
    },
    {
     "cell_type": "code",
     "collapsed": false,
     "input": [],
     "language": "python",
     "metadata": {},
     "outputs": []
    }
   ],
   "metadata": {}
  }
 ]
}